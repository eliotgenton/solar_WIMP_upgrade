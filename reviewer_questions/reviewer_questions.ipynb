{
 "cells": [
  {
   "cell_type": "markdown",
   "metadata": {},
   "source": [
    "# Reviewers questions for solar WIMP analysis"
   ]
  },
  {
   "cell_type": "markdown",
   "metadata": {},
   "source": [
    "## Analyzers: Jeff Lazar and Ivan Martinez-Soler\n",
    "## Wroking group reviewer: Mehr Un Nisa\n",
    "## [Technote](https://www.overleaf.com/read/xcndhqsgmzkz)\n",
    "## [Wiki page](https://wiki.icecube.wisc.edu/index.php/IC86_Solar_WIMP_2023)"
   ]
  },
  {
   "cell_type": "markdown",
   "metadata": {},
   "source": [
    "### Q0. Do you have a qualitative sense of why the b quark channel is more sensitive to the EW correction than the W? Naively, I would expect the opposite.\n",
    "\n",
    "My understanding is that in the absence of the EW correction, the $b$ quark hadronizes, splitting its energy up among many, many hadrons that interact and lose energy before potentially decaying to neutrinos. When you introduce the EW correction, you can produce $W^{1,2,3}$ which change into $W^{\\pm}$ and $Z^{0}$ below the EW scale. These decay before interacting, giving a neutrino that carries an appreciable fraction of the initial $b$ quark energy.\n",
    "\n",
    "In the case of annigilation to a $W$, you are still able to radiate the gauge bosons, but this just gives you the same gauge bosons with a fraction of the initial energy. This is why you see the spectrum migrate from higher to lower energies in the $W$ channel.\n",
    "\n",
    "In short, this is because the EW correction opens new neutrino production channels in the hadronic cases, but simply modifies the energy spectrum in the boson case."
   ]
  },
  {
   "cell_type": "markdown",
   "metadata": {},
   "source": [
    "### Q1. Request for a wiki page/documentation, and list of presentations given. I understand this part is ongoing, just noting here as a reminder.\n",
    "\n",
    "I have made a [Wiki page](https://wiki.icecube.wisc.edu/index.php/IC86_Solar_WIMP_2023) and [DocuShare](https://docushare.icecube.wisc.edu/dsweb/View/Collection-16872) to document this analysis."
   ]
  },
  {
   "cell_type": "markdown",
   "metadata": {},
   "source": [
    "### Q2. Suggestion to include the neutrino-antineutrino channel. (We discussed this on slack, the final decision rests with the analyzer.) \n",
    "\n",
    "I agree this should be included. I am running the analysis on these cases now, and initial results look good. I think as long as no unexpected technical issues come up, we will include this channel. I will update this later with the results."
   ]
  },
  {
   "cell_type": "markdown",
   "metadata": {},
   "source": [
    "### Q3. Can you provide the live time or total duration of individual event selections used in this work? Are pre-IC 86 epochs included? \n",
    "\n",
    "We are only planning to use IC86 data in this analysis. Currently, it looks like only data through 2021 is available in the event selection directories, and so the nominal runtime is 11 years. As is expected, the actual livetime is not the nominal. For the improved northern tracks selection, the per-year livetime from `/data/ana/analyses/northern_tracks/version-005-p01/GRL/IC86_{YEAR}_exp.npy` is:\n",
    "\n",
    "| Year | Livetime (days) |\n",
    "| ---- | -------- |\n",
    "| 2011 | 338.1    |\n",
    "| 2012 | 325.4    |\n",
    "| 2013 | 352.3    |\n",
    "| 2014 | 360.9    |\n",
    "| 2015 | 364.6    |\n",
    "| 2016 | 355.8    |\n",
    "| 2017 | 409.9    |\n",
    "| 2018 | 368.1    |\n",
    "| 2019 | 311.0    |\n",
    "| 2020 | 361.2    |\n",
    "| 2021 | 256.8    |\n",
    "\n",
    "Thus, we take the total livetime to be $328673673.7984125$ seconds.\n",
    "\n",
    "For the OscNesxt selection, we take the livetime from the good run lists for each year.\n",
    "\n",
    "| Year | Livetime (days) |\n",
    "| ---- | --------------- |\n",
    "| 2011 | 341.7           |\n",
    "| 2012 | 327.7           |\n",
    "| 2013 | 356.7           |\n",
    "| 2014 | 364.9           |\n",
    "| 2015 | 365.2           |\n",
    "| 2016 | 357.2           |\n",
    "| 2017 | 415.1           |\n",
    "| 2018 | 368.8           |\n",
    "| 2019 | 313.3           |\n",
    "| 2020 | 361.3           |\n",
    "| 2021 | 430.7           |\n",
    "\n",
    "Thus we take the total livetime to be $345824815.4500002$ seconds\n",
    "\n",
    "The code to reproduce each of these livetimes can be found in the block below."
   ]
  },
  {
   "cell_type": "code",
   "execution_count": 1,
   "metadata": {},
   "outputs": [
    {
     "name": "stdout",
     "output_type": "stream",
     "text": [
      "The livetime for the northern tracks selection in 2011 was 338.0927142245527 days\n",
      "The livetime for the northern tracks selection in 2012 was 325.42513043981484 days\n",
      "The livetime for the northern tracks selection in 2013 was 352.2774247685186 days\n",
      "The livetime for the northern tracks selection in 2014 was 360.8798018078903 days\n",
      "The livetime for the northern tracks selection in 2015 was 364.60025709733094 days\n",
      "The livetime for the northern tracks selection in 2016 was 355.78305821759255 days\n",
      "The livetime for the northern tracks selection in 2017 was 409.9114822916667 days\n",
      "The livetime for the northern tracks selection in 2018 was 368.09397916666666 days\n",
      "The livetime for the northern tracks selection in 2019 was 311.0416275462963 days\n",
      "The livetime for the northern tracks selection in 2020 was 361.21311527777783 days\n",
      "The livetime for the northern tracks selection in 2021 was 256.7748559027778 days\n",
      "The total livetime for the northern tracks selection is 328673673.7984125\n",
      "The livetime for the OscNest selection in 2011 was 341.67704918981485 days\n",
      "The livetime for the OscNest selection in 2012 was 327.7466590277783 days\n",
      "The livetime for the OscNest selection in 2013 was 356.7073268518527 days\n",
      "The livetime for the OscNest selection in 2014 was 364.8889707175927 days\n",
      "The livetime for the OscNest selection in 2015 was 365.24342453703724 days\n",
      "The livetime for the OscNest selection in 2016 was 357.2024189814815 days\n",
      "The livetime for the OscNest selection in 2017 was 415.111556018518 days\n",
      "The livetime for the OscNest selection in 2018 was 368.81934675925913 days\n",
      "The livetime for the OscNest selection in 2019 was 313.28985520833345 days\n",
      "The livetime for the OscNest selection in 2020 was 361.25290162037044 days\n",
      "The livetime for the OscNest selection in 2021 was 430.6625217592607 days\n",
      "The total livetime for the OscNext selection is 345824815.4500002\n"
     ]
    }
   ],
   "source": [
    "ps_total_livetime = 0\n",
    "for yr in [11,12,13,14,15,16,17,18,19,20,21]:\n",
    "    livetime = 0\n",
    "    livetimes = np.load(f\"/data/ana/analyses/northern_tracks/version-005-p01/GRL/IC86_20{yr}_exp.npy\")[\"livetime\"] * 3600 * 24\n",
    "    print(f\"The livetime for the northern tracks selection in 20{yr} was {np.sum(livetimes) / 3600 / 24} days\")\n",
    "    livetime += np.sum(livetimes)\n",
    "    ps_total_livetime += livetime\n",
    "print(f\"The total livetime for the northern tracks selection is {ps_total_livetime}\")\n",
    "\n",
    "osc_total_livetime = 0\n",
    "for year in [2011, 2012, 2013, 2014, 2015, 2016, 2017, 2018, 2019, 2020, 2021]:\n",
    "    livetime = 0\n",
    "    if year < 2016:\n",
    "         fnames = [f\"/data/exp/IceCube/{year}/filtered/level2pass2a/IC86_{year}_GoodRunInfo.txt\"]\n",
    "    elif year==2017:\n",
    "        fnames = [\n",
    "            f\"/data/exp/IceCube/{year}/filtered/level2pass2a/IC86_{year}_GoodRunInfo.txt\",\n",
    "            f\"/data/exp/IceCube/{year}/filtered/level2/IC86_{year}_GoodRunInfo.txt\"\n",
    "        ]\n",
    "    else:\n",
    "        fnames = [f\"/data/exp/IceCube/{year}/filtered/level2/IC86_{year}_GoodRunInfo.txt\"]\n",
    "    for fname in fnames:\n",
    "        with open(fname) as f:\n",
    "            idx = 0\n",
    "            for line in f:\n",
    "                line_split = line.split()\n",
    "                # This is a line that does not contain run information\n",
    "                try:\n",
    "                    int(line_split[0])\n",
    "                except Exception:\n",
    "                    continue\n",
    "                # This is a bad run\n",
    "                if not(int(line_split[1])!=0 or int(line_split[2])!=0):\n",
    "                    continue\n",
    "\n",
    "                livetime += float(line_split[3])\n",
    "    osc_total_livetime += livetime\n",
    "    print(f\"The livetime for the OscNest selection in {year} was {livetime / 3600 / 24} days\")\n",
    "print(f\"The total livetime for the OscNext selection is {osc_total_livetime}\")"
   ]
  },
  {
   "cell_type": "markdown",
   "metadata": {},
   "source": [
    "### Q4. Can you provide a plot of the expected flux vs energy from solar atmospheric neutrinos, and the expected flux from DM annihilation for some nominal cross-section and masses on the same figure? It would be good to see if the two are even comparable or if you can just ignore the SA nus. \n",
    "\n",
    "Below I make a plot of the flux from neutrinos from reference dark matter hypotheses compared to the solar atmospheric flux.\n",
    "The cross section of dark matter hypothesis is set to the sensitivities of this analysis.\n",
    "It seems that channels whose limit is driven by the DeepCore is significantly above the solar atmospheric flux, while channels whose limit is driven by the point source selection are nearing the solar atmospheric flux.\n",
    "Thus, I think it is necessary to include it for certain dark matter hypothesis, and for simplicity I would like to include it in all cases.\n",
    "Perhaps a good check would be to make sure the the inject-recover fits fit the solar atmospheric flux in the channels whose senstivitiy is dominiated by the posint source selection."
   ]
  },
  {
   "cell_type": "code",
   "execution_count": 2,
   "metadata": {},
   "outputs": [
    {
     "data": {
      "image/png": "[encoded data removed]",
      "text/plain": [
       "<Figure size 600x400 with 1 Axes>"
      ]
     },
     "metadata": {},
     "output_type": "display_data"
    }
   ],
   "source": [
    "import numpy as np\n",
    "import matplotlib.pyplot as plt\n",
    "from matplotlib import colors\n",
    "plt.style.use(\"/data/ana/BSM/IC86_all_energy_solar_WIMP/solar_WIMP_v2/paper.mplstyle\")\n",
    "\n",
    "SIGMA_REF = 1e-40 # cross section where I calculate rate\n",
    "\n",
    "solar_atm_flux = np.genfromtxt(\"/data/ana/BSM/IC86_all_energy_solar_WIMP/data/tabulated_flux/SIBYLL2.3_ppMRS_CombinedGHAndHG_H4a.txt\")\n",
    "nominal_dm_model_0 = np.genfromtxt(\"/data/ana/BSM/IC86_all_energy_solar_WIMP/data/tabulated_flux/5-200.txt\")\n",
    "nominal_dm_model_1 = np.genfromtxt(\"/data/ana/BSM/IC86_all_energy_solar_WIMP/data/tabulated_flux/8-500.txt\")\n",
    "nominal_dm_model_2 = np.genfromtxt(\"/data/ana/BSM/IC86_all_energy_solar_WIMP/data/tabulated_flux/11-5000.txt\")\n",
    "# Limits taken from the nearest mass at https://wiki.icecube.wisc.edu/index.php/IC86:3y_solarWIMP_combined#Limits\n",
    "dm_limit_0 = 9.523442833651132e-40 / SIGMA_REF\n",
    "dm_limit_1 = 8.377054763487159e-42 / SIGMA_REF\n",
    "dm_limit_2 = 1.026039696612497e-40 / SIGMA_REF\n",
    "\n",
    "plt.plot(\n",
    "    solar_atm_flux[:, 0],\n",
    "    np.power(solar_atm_flux[:, 0], 3) * solar_atm_flux[:, 3],\n",
    "    color=\"darkorange\",\n",
    "    label=\"Nominal solar atm.\"\n",
    ")\n",
    "plt.plot(\n",
    "    solar_atm_flux[:, 0],\n",
    "    np.power(solar_atm_flux[:, 0], 3) * solar_atm_flux[:, 4],\n",
    "    color=\"darkorange\",\n",
    "    ls=\"--\"\n",
    ")\n",
    "plt.plot(\n",
    "    nominal_dm_model_0[:, 0],\n",
    "    np.power(nominal_dm_model_0[:, 0], 3) * dm_limit_0 * nominal_dm_model_0[:, 3],\n",
    "    color=colors.to_rgb(\"k\") + (0.2,),\n",
    "    label=r\"$b\\bar{b}$\"\n",
    ")\n",
    "plt.plot(\n",
    "    nominal_dm_model_0[:, 0],\n",
    "    np.power(nominal_dm_model_0[:, 0], 3) * dm_limit_0 * nominal_dm_model_0[:, 4],\n",
    "    color=colors.to_rgb(\"k\") + (0.2,),\n",
    "    ls=\"--\"\n",
    ")\n",
    "plt.plot(\n",
    "    nominal_dm_model_1[:, 0],\n",
    "    np.power(nominal_dm_model_1[:, 0], 3) * dm_limit_1 * nominal_dm_model_1[:, 3],\n",
    "    color=colors.to_rgb(\"k\") + (0.6,),\n",
    "    label=r\"$W^{+}W^{-}$\"\n",
    ")\n",
    "plt.plot(\n",
    "    nominal_dm_model_1[:, 0],\n",
    "    np.power(nominal_dm_model_1[:, 0], 3) * dm_limit_1 * nominal_dm_model_1[:, 4],\n",
    "    color=colors.to_rgb(\"k\") + (0.6,),\n",
    "    ls=\"--\"\n",
    ")\n",
    "plt.plot(\n",
    "    nominal_dm_model_2[:, 0],\n",
    "    np.power(nominal_dm_model_2[:, 0], 3) * dm_limit_2 * nominal_dm_model_2[:, 3],\n",
    "    color=colors.to_rgb(\"k\") + (1.0,),\n",
    "    label=r\"$\\tau^{+}\\tau^{-}$\"\n",
    ")\n",
    "plt.plot(\n",
    "    nominal_dm_model_2[:, 0],\n",
    "    np.power(nominal_dm_model_2[:, 0], 3) * dm_limit_2 * nominal_dm_model_2[:, 4],\n",
    "    color=colors.to_rgb(\"k\") + (1.0,),\n",
    "    ls=\"--\"\n",
    ")\n",
    "plt.xlim(10, 1e3)\n",
    "plt.ylim(1e-2, 3e2)\n",
    "plt.loglog()\n",
    "plt.legend(fontsize=12, loc=1)\n",
    "plt.xlabel(r\"$E_{\\nu}~\\left[\\mathrm{GeV}\\right]$\")\n",
    "plt.ylabel(r\"$E_{\\nu}^{3}~\\phi_{\\nu}~\\Omega_{\\odot}~\\left[\\mathrm{GeV}^{2}\\,\\mathrm{cm}^{-2}\\mathrm{s}^{-1}\\right]$\")\n",
    "plt.show()"
   ]
  },
  {
   "cell_type": "markdown",
   "metadata": {},
   "source": [
    "### Q5.  The Northern tracks selection is limited to declination angles > -5˚ (or zenith > 85˚), whereas the Sun does go down to -20˚ for some part of the year. Do you have an estimate of how much signal you lose by this zenith cut on events. It will give you sense of potential improvements in future with an all-sky dataset. \n",
    "\n",
    "My feeling is that it should be proportional to the amount of time that the Sun spends in that portion of phase space times the effective area. I guess this first factor is around a factor of two since the time is roughly symmetric around $\\theta=90^{\\circ}$ and is concentrated at extremal values.\n",
    "\n",
    "Below I compare the effective areas of the two selections in the relevant declination ranges. In the energy range relevant to this analysis—10 TeV and below—The ESTES effective area is at least a factor of 30 smaller than the northern tracks selection. Thus it should have a negligible contribution to the sensitivity. Going forward, we will not include ESTES."
   ]
  },
  {
   "cell_type": "code",
   "execution_count": 3,
   "metadata": {},
   "outputs": [
    {
     "data": {
      "image/png": "[encoded data removed]",
      "text/plain": [
       "<Figure size 600x400 with 1 Axes>"
      ]
     },
     "metadata": {},
     "output_type": "display_data"
    },
    {
     "data": {
      "image/png": "[encoded data removed]",
      "text/plain": [
       "<Figure size 600x400 with 1 Axes>"
      ]
     },
     "metadata": {},
     "output_type": "display_data"
    }
   ],
   "source": [
    "es = np.logspace(2, 8, 31)\n",
    "widths = es[1:] - es[:-1]\n",
    "cents = (es[1:] + es[:-1]) / 2\n",
    "\n",
    "estes_mc = np.load(\"/data/ana/analyses/estes_ps/version-001-p03/MC_All_Combined.npy\")\n",
    "decmin = np.radians(-20)\n",
    "decmax = np.radians(-5)\n",
    "omega = 2 * np.pi * (np.sin(decmax) - np.sin(decmin))\n",
    "dec_mask = np.logical_and(decmin < estes_mc[\"trueDec\"], estes_mc[\"trueDec\"] < decmax)\n",
    "muon_mask = np.abs(estes_mc[\"primary_pid\"])==14\n",
    "\n",
    "h_estes, _ = np.histogram(\n",
    "    estes_mc[np.logical_and(dec_mask, muon_mask)][\"trueE\"],\n",
    "    bins=es,\n",
    "    weights=estes_mc[np.logical_and(dec_mask, muon_mask)][\"ow\"]\n",
    ")\n",
    "estes_effa = h_estes / widths / omega\n",
    "\n",
    "nt_mc = np.load(\"/data/ana/BSM/IC86_all_energy_solar_WIMP/data/point_source_data/IC86_pass2_MC.npy\")\n",
    "decmin = np.radians(-5)\n",
    "decmax = np.radians(20)\n",
    "omega = 2 * np.pi * (np.sin(decmax) - np.sin(decmin))\n",
    "dec_mask = np.logical_and(decmin < nt_mc[\"trueDec\"], nt_mc[\"trueDec\"] < decmax)\n",
    "\n",
    "h_nt, _ = np.histogram(\n",
    "    nt_mc[dec_mask][\"trueE\"],\n",
    "    bins=es,\n",
    "    weights=nt_mc[dec_mask][\"ow\"]\n",
    ")\n",
    "nt_effa = h_nt / widths / omega\n",
    "\n",
    "plt.step(cents, nt_effa, label=\"Northern tracks\", where=\"mid\")\n",
    "plt.step(cents, estes_effa, label=\"ESTES\", where=\"mid\")\n",
    "plt.legend(fontsize=12, loc=4)\n",
    "plt.xlabel(r\"$E_{\\nu}~\\left[\\mathrm{GeV}\\right]$\")\n",
    "plt.ylabel(r\"$A_{\\mathrm{eff.}}~\\left[\\mathrm{cm^{2}}\\right]$\")\n",
    "plt.loglog()\n",
    "plt.xlim(100, 10000)\n",
    "plt.show()\n",
    "\n",
    "plt.step(cents, estes_effa / nt_effa, label=\"Ratio\", where=\"mid\")\n",
    "plt.legend(fontsize=12, loc=4)\n",
    "plt.xlabel(r\"$E_{\\nu}~\\left[\\mathrm{GeV}\\right]$\")\n",
    "plt.ylabel(r\"Ratio\")\n",
    "plt.xlim(100, 10000)\n",
    "plt.loglog()\n",
    "plt.show()"
   ]
  },
  {
   "cell_type": "markdown",
   "metadata": {},
   "source": [
    "### Q6. Do you know how many events or what percentage of events you lose in OscNext with the Muon filter and Lowup I3 cuts? \n",
    "\n",
    "We can get a rough idea of this by comparing the drop in the all-sky rate. I do this below. I will do more rigorous checks on this by running the analysis code through to final level."
   ]
  },
  {
   "cell_type": "code",
   "execution_count": 4,
   "metadata": {},
   "outputs": [
    {
     "ename": "IndentationError",
     "evalue": "expected an indented block (<ipython-input-4-eae25002fbc9>, line 9)",
     "output_type": "error",
     "traceback": [
      "\u001b[0;36m  File \u001b[0;32m\"<ipython-input-4-eae25002fbc9>\"\u001b[0;36m, line \u001b[0;32m9\u001b[0m\n\u001b[0;31m    no_muon_mask = events.passed_muon==0\u001b[0m\n\u001b[0m               ^\u001b[0m\n\u001b[0;31mIndentationError\u001b[0m\u001b[0;31m:\u001b[0m expected an indented block\n"
     ]
    }
   ],
   "source": [
    "from solar_common.event_reader import EventReader, Selection, DataType, event_reader_from_file\n",
    "\n",
    "nominal_oscnext_fluxf = \"/data/ana/BSM/IC86_all_energy_solar_WIMP/data/mc_fluxes/oscnext_mc_flux.h5\"\n",
    "nominal_oscnext_mcf = \"/data/ana/BSM/IC86_all_energy_solar_WIMP/data/oscNext_data/oscNext_simulation.h5\"\n",
    "events = event_reader_from_file(nominal_oscnext_mcf, Selection.OSCNEXT, DataType.MC)\n",
    "model = \"5-100\"\n",
    "with h5.File(nominal_oscnext_fluxf, \"r\") as h5f:\n",
    "#     flux = h5f[model][:]\n",
    "no_muon_mask = events.passed_muon==0\n",
    "\n",
    "rate = np.sum(flux * events.oneweight)\n",
    "no_muon_rate = np.sum(flux[no_muon_mask] * events.oneweight[no_muon_mask])\n",
    "\n",
    "print(f\"We expect to retain {no_muon_rate / rate * 100}% of events.\")"
   ]
  },
  {
   "cell_type": "markdown",
   "metadata": {},
   "source": [
    "### Q7. It was unclear to me if you still plan on using the Lowup I3 selection for intermediate energies or only sticking to Northern tracks and Oscnext. Can you please clarify? Also, would this be the first analysis using the Lowup I3 selection? The status of ESTES inclusion is also unclear. \n",
    "\n",
    "As discussed in Q5, we will not be adding ESTES to this analysis. We were hoping to include the Lowup intermediate energy selection in this analysis, but I do not think it will be ready in time for my graduation timeline. I think that we will continue to develop this selection, but that will be reserved for a separate effort. Thus this analysis will use northern tracks and OscNext with MuonFilter events removed since this will ensure statistical independence of the two selections."
   ]
  },
  {
   "cell_type": "markdown",
   "metadata": {},
   "source": [
    "### Q8. (a) As I understand you have 3D bins: angular distance, energy, and morphology. Can you comment on why the binning in morphology is useful -- especially if you're assuming an equal flavor ratio in annihilation final states? Or is that not the case? We also know that in the northern tracks there is only one morphology. (b) Can you add histograms of the signal and bkg distributions in different morphology bins?\n",
    "\n",
    "We don't assume an equal flavor ratio, but when the fluxes reach Earth, the have typically reached an equal flavor ratio. Since our background is primarily conventional atmospheric neutrinos, it is mostly created as muon neutrinos, and does not have time to oscillate to an equal flavor ratio. Thus, we get an increased signal-to-background ratio in the cascade-like bins. We only include this additional variable for the OscNext selection, since as you rightly point out, there is only one morphology in the northern tracks selection.\n",
    "\n",
    "See plots below !"
   ]
  },
  {
   "cell_type": "code",
   "execution_count": null,
   "metadata": {},
   "outputs": [],
   "source": [
    "from matplotlib.gridspec import GridSpec\n",
    "def plot_triptych(arr: np.ndarray, show=True, figname=\"\", **kwargs) -> None:\n",
    "    if arr.ndim != 3:\n",
    "        raise ValueError(\"Expecting ndim=3. Got ndim={arr.ndim}\")\n",
    "    \n",
    "    z = np.log10(arr)\n",
    "    \n",
    "    # Configure imshow options\n",
    "    vmin = np.min(z[np.isfinite(z)])\n",
    "    vmax = np.max(z)\n",
    "    if \"vmax\" in kwargs:\n",
    "        vmax = kwargs[\"vmax\"]\n",
    "    if \"vmin\" in kwargs:\n",
    "        vmin = kwargs[\"vmin\"]\n",
    "        \n",
    "    cmap = \"Greys\"\n",
    "    if \"cmap\" in kwargs:\n",
    "        cmap = kwargs[\"cmap\"]\n",
    "    \n",
    "    figsize = (15, 5)\n",
    "    if \"figsize\" in kwargs:\n",
    "        figsize = kwargs[\"figsize\"]\n",
    "    fig = plt.figure(figsize=figsize)\n",
    "    \n",
    "    gs = GridSpec(1, 3, wspace=0.02)\n",
    "    \n",
    "    # Configure xaxis\n",
    "    xmin = 0\n",
    "    if \"xmin\" in kwargs:\n",
    "        xmin = kwargs[\"xmin\"]\n",
    "    xmax = 180\n",
    "    if \"xmax\" in kwargs:\n",
    "        xmax = kwargs[\"xmax\"]\n",
    "    \n",
    "    xlabel = r\"$\\psi~\\left[^{\\circ}\\right]$\"\n",
    "    if \"xlabel\" in kwargs:\n",
    "        xlabel = kwargs[\"xlabel\"]\n",
    "    \n",
    "    # Configure the yaxis\n",
    "    ymin = 0\n",
    "    if \"ymin\" in kwargs:\n",
    "        ymin = kwargs[\"ymin\"]\n",
    "    ymax = 6\n",
    "    if ymax in kwargs:\n",
    "        ymax = kwargs[\"ymax\"]\n",
    "    \n",
    "    \n",
    "    ylabel = r\"$E_{\\rm{reco}}~\\left[{\\rm{GeV}}\\right]$\"\n",
    "    if \"ylabel\" in kwargs:\n",
    "        ylabel = kwargs[\"ylabel\"]\n",
    "    \n",
    "    yticks = np.arange(np.ceil(ymin), np.ceil(ymax))\n",
    "    ytick_labels = [r\"$10^{%d}$\" % yt for yt in yticks]\n",
    "\n",
    "    # Configure colorbar\n",
    "    \n",
    "    cbar_label = r\"$\\log_{10}\\left(N_{\\rm{evts.}}\\right)$\"\n",
    "    if \"cbar_label\" in kwargs:\n",
    "        cbar_label = kwargs[\"cbar_label\"]\n",
    "\n",
    "    for idx, spec in enumerate(gs):\n",
    "        ax = fig.add_subplot(spec)\n",
    "        im = ax.imshow(\n",
    "            z[:,:,idx].T[::-1],\n",
    "            extent=[0, 180, -3, 6],\n",
    "            vmin=vmin,\n",
    "            vmax=vmax,\n",
    "            cmap=cmap,\n",
    "            aspect=\"auto\"\n",
    "        )\n",
    "        \n",
    "        ax.set_ylim(ymin, ymax)\n",
    "        ax.set_xlabel(xlabel)\n",
    "        ax.set_xlim(xmin, xmax)\n",
    "        [border.set_linewidth(2) for border in ax.spines.values()]\n",
    "        \n",
    "        if idx==0:\n",
    "            ax.set_ylabel(ylabel)\n",
    "            ax.set_yticks(yticks)\n",
    "            ax.set_yticklabels(ytick_labels)\n",
    "        else:\n",
    "            ax.set_yticks(yticks)\n",
    "            ax.set_yticklabels([])\n",
    "    \n",
    "        if idx==1:\n",
    "            if \"title\" in kwargs:\n",
    "                ax.set_title(kwargs[\"title\"])\n",
    "    \n",
    "    fig.subplots_adjust(right=0.835)\n",
    "    cbar_ax = fig.add_axes([0.85, 0.15, 0.025, 0.7])\n",
    "    cbar = fig.colorbar(im, cax=cbar_ax, label=cbar_label)\n",
    "    [border.set_linewidth(2) for border in cbar.ax.spines.values()]\n",
    "        \n",
    "    if figname:\n",
    "        plt.savefig(figname)\n",
    "    \n",
    "    if show:\n",
    "        plt.show()"
   ]
  },
  {
   "cell_type": "code",
   "execution_count": null,
   "metadata": {},
   "outputs": [],
   "source": [
    "from solar_common.utils import (\n",
    "    oscnext_yearmaker,\n",
    "    ps_yearmaker,\n",
    "    prepare_data_distribution,\n",
    "    prepare_simulation_distribution\n",
    ")\n",
    "from solar_common.event_reader import Selection\n",
    "\n",
    "LIVETIME_DICT = {\n",
    "    Selection.OSCNEXT: 345824815.4500002,\n",
    "    Selection.POINTSOURCE: 328673673.7984125\n",
    "}\n",
    "\n",
    "oscnext_data_file = \"/data/ana/BSM/IC86_all_energy_solar_WIMP/data/analysis_distributions/oscnext_scrambled_data_no_muon.h5\"\n",
    "oscnext_mc_file = \"/data/ana/BSM/IC86_all_energy_solar_WIMP/data/analysis_distributions/oscnext_mc_no_muon.h5\"\n",
    "model0 = \"5-200\"\n",
    "model1 = \"11-50\"\n",
    "\n",
    "# Load up the simualtion\n",
    "with h5.File(oscnext_mc_file, \"r\") as h5f:\n",
    "    osc_nom_sig0 = LIVETIME_DICT[Selection.OSCNEXT] * prepare_simulation_distribution(h5f, model0)\n",
    "    osc_nom_sig1 = LIVETIME_DICT[Selection.OSCNEXT] * prepare_simulation_distribution(h5f, model1)\n",
    "    \n",
    "# Load up the scrambled data\n",
    "with h5.File(oscnext_data_file, \"r\") as h5f:\n",
    "    osc_nom_bg = prepare_data_distribution(h5f, oscnext_yearmaker)\n"
   ]
  },
  {
   "cell_type": "code",
   "execution_count": null,
   "metadata": {},
   "outputs": [],
   "source": [
    "plot_triptych(osc_nom_sig0, xmax=50, title=model0)\n",
    "plot_triptych(osc_nom_sig1, xmax=50, title=model1)\n",
    "plot_triptych(osc_nom_bg, xmax=50, title=\"Background\")"
   ]
  },
  {
   "cell_type": "markdown",
   "metadata": {},
   "source": [
    "### Q9. You show the bkg and signal distributions in a 12-degree psi? Is that just a plotting choice or a hard cut on the analysis region? Because at low energies the angular uncertainty of events would be much higher than 12.\n",
    "\n",
    "This is just a plotting choice ! The code below will plot for other regions of the sky."
   ]
  },
  {
   "cell_type": "code",
   "execution_count": null,
   "metadata": {},
   "outputs": [],
   "source": [
    "def plot_analysis_distribution(arr: np.ndarray, figname=\"\", show=True, ax=None, **kwargs):\n",
    "    \n",
    "    if arr.ndim!=2:\n",
    "        raise ValueError(\"arr ndim=={arr.ndim}!=2.\")\n",
    "    \n",
    "    figsize = (6, 5)\n",
    "    \n",
    "    if ax is None:\n",
    "        if \"figsize\" in kwargs:\n",
    "            figsize = kwargs[\"figsize\"]\n",
    "        fig, ax = plt.subplots(figsize=figsize)\n",
    "    \n",
    "    z = np.log10(arr.T[::-1])\n",
    "    \n",
    "    vmin = np.min(z[np.isfinite(z)])\n",
    "    if \"vmin\" in kwargs:\n",
    "        vmin = kwargs[\"vmin\"]\n",
    "    vmax = np.max(z)\n",
    "    if \"vmax\" in kwargs:\n",
    "        vmax = kwargs[\"vmax\"]\n",
    "        \n",
    "    cmap = \"Greys\"\n",
    "    if \"cmap\" in kwargs:\n",
    "        cmap = kwargs[\"cmap\"]\n",
    "        \n",
    "    im = ax.imshow(\n",
    "        z,\n",
    "        extent=[0, 180, -3, 6],\n",
    "        vmin=vmin,\n",
    "        vmax=vmax,\n",
    "        cmap=cmap,\n",
    "        aspect=\"auto\"\n",
    "    )\n",
    "    \n",
    "    # Configure the xaxis\n",
    "    xmin = 0\n",
    "    if \"xmin\" in kwargs:\n",
    "        xmin = kwargs[\"xmin\"]\n",
    "    xmax = 180\n",
    "    if \"xmax\" in kwargs:\n",
    "        xmax = kwargs[\"xmax\"]\n",
    "    ax.set_xlim(xmin, xmax)\n",
    "    \n",
    "    xlabel = r\"$\\psi~\\left[^{\\circ}\\right]$\"\n",
    "    if \"xlabel\" in kwargs:\n",
    "        xlabel = kwargs[\"xlabel\"]\n",
    "    ax.set_xlabel(xlabel)\n",
    "    \n",
    "    # Configure the yaxis\n",
    "    ymin = 0\n",
    "    if \"ymin\" in kwargs:\n",
    "        ymin = kwargs[\"ymin\"]\n",
    "    ymax = 6\n",
    "    if ymax in kwargs:\n",
    "        ymax = kwargs[\"ymax\"]\n",
    "    ax.set_ylim(ymin, ymax)\n",
    "    \n",
    "    ylabel = r\"$E_{\\rm{reco}}~\\left[{\\rm{GeV}}\\right]$\"\n",
    "    if \"ylabel\" in kwargs:\n",
    "        ylabel = kwargs[\"ylabel\"]\n",
    "    ax.set_ylabel(ylabel)\n",
    "    \n",
    "    yticks = np.arange(np.ceil(ymin), np.ceil(ymax))\n",
    "    ytick_labels = [r\"$10^{%d}$\" % yt for yt in yticks]\n",
    "    ax.set_yticks(yticks)\n",
    "    ax.set_yticklabels(ytick_labels)\n",
    "    \n",
    "    [border.set_linewidth(2) for border in ax.spines.values()]\n",
    "    \n",
    "    # Configure colorbar\n",
    "    \n",
    "    cbar_label = r\"$\\log_{10}\\left(N_{\\rm{evts.}}\\right)$\"\n",
    "    if \"cbar_label\" in kwargs:\n",
    "        cbar_label = kwargs[\"cbar_label\"]\n",
    "        \n",
    "    cbar = plt.colorbar(im, label=cbar_label)\n",
    "    [border.set_linewidth(2) for border in cbar.ax.spines.values()]\n",
    "    \n",
    "    # Set a title\n",
    "    if \"title\" in kwargs:\n",
    "        ax.set_title(kwargs[\"title\"], fontsize=15)\n",
    "        \n",
    "    if \"text\" in kwargs:\n",
    "        ax.text(0.5, 5.5, kwargs[\"text\"])\n",
    "    \n",
    "    if figname:\n",
    "        plt.savefig(figname)\n",
    "    \n",
    "    if show:\n",
    "        plt.show()\n",
    "        \n",
    "    if \"return_ax\" in kwargs:\n",
    "        if kwargs[\"return_ax\"]:\n",
    "            return ax\n",
    "    plt.close()"
   ]
  },
  {
   "cell_type": "code",
   "execution_count": null,
   "metadata": {},
   "outputs": [],
   "source": [
    "from solar_common.utils import (\n",
    "    oscnext_yearmaker,\n",
    "    ps_yearmaker,\n",
    "    prepare_data_distribution,\n",
    "    prepare_simulation_distribution\n",
    ")\n",
    "from solar_common.event_reader import Selection\n",
    "\n",
    "LIVETIME_DICT = {\n",
    "    Selection.OSCNEXT: 345824815.4500002,\n",
    "    Selection.POINTSOURCE: 328673673.7984125\n",
    "}\n",
    "\n",
    "oscnext_data_file = \"/data/ana/BSM/IC86_all_energy_solar_WIMP/data/analysis_distributions/oscnext_scrambled_data_no_muon.h5\"\n",
    "oscnext_mc_file = \"/data/ana/BSM/IC86_all_energy_solar_WIMP/data/analysis_distributions/oscnext_mc_no_muon.h5\"\n",
    "ps_data_file = \"/data/ana/BSM/IC86_all_energy_solar_WIMP/data/analysis_distributions/ps_scrambled_data.h5\"\n",
    "ps_mc_file = \"/data/ana/BSM/IC86_all_energy_solar_WIMP/data/analysis_distributions/IC86_pass2_MC_distributions.h5\"\n",
    "model = \"5-500\"\n",
    "\n",
    "# Load up the simualtion\n",
    "with h5.File(oscnext_mc_file, \"r\") as h5f:\n",
    "    osc_nom_sig = LIVETIME_DICT[Selection.OSCNEXT] * prepare_simulation_distribution(h5f, model)\n",
    "with h5.File(ps_mc_file, \"r\") as h5f:\n",
    "    ps_nom_sig = LIVETIME_DICT[Selection.POINTSOURCE] * prepare_simulation_distribution(h5f, model)\n",
    "    \n",
    "# Load up the scrambled data\n",
    "with h5.File(oscnext_data_file, \"r\") as h5f:\n",
    "    osc_nom_bg = prepare_data_distribution(h5f, oscnext_yearmaker)\n",
    "with h5.File(ps_data_file, \"r\") as h5f:\n",
    "    ps_nom_bg = prepare_data_distribution(h5f, ps_yearmaker)"
   ]
  },
  {
   "cell_type": "code",
   "execution_count": null,
   "metadata": {
    "scrolled": false
   },
   "outputs": [],
   "source": [
    "# Plot the background\n",
    "plot_analysis_distribution(ps_nom_bg, title=\"All-sky ps background\")\n",
    "plot_analysis_distribution(ps_nom_bg, xmax=30)\n",
    "plot_analysis_distribution(osc_nom_bg.sum(axis=-1), title=\"All-sky OscNext background\")\n",
    "plot_analysis_distribution(osc_nom_bg.sum(axis=-1), xmax=30)\n",
    " \n",
    "# Plot the signal\n",
    "plot_analysis_distribution(ps_nom_sig, title=\"All-sky ps signal\")\n",
    "plot_analysis_distribution(ps_nom_sig, xmax=30)\n",
    "plot_analysis_distribution(osc_nom_sig.sum(axis=-1), title=\"All-sky OscNext signal\")\n",
    "plot_analysis_distribution(osc_nom_sig.sum(axis=-1), xmax=30)"
   ]
  },
  {
   "cell_type": "markdown",
   "metadata": {},
   "source": [
    "### Q10. You show the signal/bkg distributions for both OscNext and Northern tracks separately. Are they combined at some point (how)? Or do you only use one dataset for a certain set of masses and the other for the rest? \n",
    "\n",
    "Since the sets are disjoint due to the filtering criterion, we have\n",
    "$$\n",
    "\\mathcal{L}_{\\mathrm{tot.}} = \\prod_{\\{\\mathrm{sels.}\\}}\\mathcal{L}_{i} \\rightarrow TS_{\\mathrm{tot.}} = \\sum_{\\{\\mathrm{sels.}\\}} TS_{i}\n",
    "$$\n",
    "so we compute the test statistic for each selection and then sum the test statistics to get the total. In practice, we always consider both selections, but often it is only one that is driving the sensitivity."
   ]
  },
  {
   "cell_type": "markdown",
   "metadata": {},
   "source": [
    "### Q11. In the likelihood maximization, is the solar atmospheric background normalization fitted separately or kept fixed? \n",
    "\n",
    "The solar atmospheric background is fit along with the scrambled data normalization and, in the case of signal fits, the signal. We do enforce that it cannot be fit to a value greater than the 99% upper limit from the previous IceCube solar WIMP search."
   ]
  },
  {
   "cell_type": "markdown",
   "metadata": {},
   "source": [
    "### Q12. Once the sensitivity curves are finalized, can you also include lines from the most recent IC analyses and a few external experiments for comparison? \n",
    "\n",
    "Definitely !"
   ]
  },
  {
   "cell_type": "markdown",
   "metadata": {},
   "source": [
    "## Q13. In order to ensure statistical independence from our high- and medium-energy samples, we need to impose further cuts on this nominal selection. We do this by removing all events which pass either the MuonFilter 13 or Lowup 13  filters, as these are prerequisites to entering the high- and medium-energy selections respectively.\" Why apply this cut rather than only removing the events which are in both sets? Why apply this cut rather than only removing the events which are in both sets?\n",
    "\n",
    "This cut is made because otherwise there is no way to ensure statistical independence of the simulation. Obviously in the data you can pick out events one-by-one, but in the simulation there is no way ot do this. \n",
    "This could casue a situiation where you events are being double counted whne computing the expected signal event rate.\n",
    "Having overlapping regions of phase space also makes weighting a bit challenging since you need to consider the joint probability of generation between two different sets.\n",
    "To summarize, you need to pick a quantity that can be computed in data and MC to ensure statistical independence and event-by-event overlaps cannot work in MC."
   ]
  },
  {
   "cell_type": "markdown",
   "metadata": {},
   "source": [
    "## Q14. The tech note describes the development of a medium energy event selection. However, this does not seem to be included in the analysis presented afterwards. What is the status/plan?\n",
    "\n",
    "This will not make it into this current analysis, but it is a medium-term goal for a follow-up analysis.\n",
    "At present, our plan is to unblind the combined northern tracks and DeepCore selections and continue work on the medium-energy selection."
   ]
  },
  {
   "cell_type": "markdown",
   "metadata": {},
   "source": [
    "## Q15. Is there anything to gain or lose in sensitivity by choosing a different maximal opening angle to the sun, i.e. focusing on events that are better aligned with the direction of the sun?\n",
    "\n",
    "We do not make any cut on the opening angle to the Sun.\n",
    "The plots in the draft often end at 12$^{\\circ}$ for visualization reasons, but we consider all events.\n",
    "The likelihood method accounts for this and events with large opening angles do not contribute to the likelihood, *i.e.* the value of that bin in the signal and background fits will be the same and so the contribution to $\\Delta \\mathrm{LLH}$ wil be zero."
   ]
  },
  {
   "cell_type": "markdown",
   "metadata": {},
   "source": [
    "## Q16. When creating the signal distribution, is there a benefit of randomly sampling times over a year versus slicing a year in equal bins?\n",
    "\n",
    "We chose this approach to computing the signal distributions for two reason.\n",
    "\n",
    "The first reason is that the slicing approach leaves you vulnerable to picking a slice that lies in a \"weird\" region of phase space.\n",
    "We are effectively computing time-integrated average of the signal expectation, and so we can illustrate this issue in terms of numerical approximations of an integral.\n",
    "The \"taking slices\" approach is equivalent to the rectangular approximation of the integral.\n",
    "If the center of your slice lies at a point where the second derivative is non-zero---and the position of the Sun follows a trigonometric function and thus the measure of phase space where the second derivative vannishes is zero---this results in an error on the integration.\n",
    "If, on the other hand, you compute the integral via a weighted average over appropriately-sampled points, this approximation will converge to the integral value with no error.\n",
    "We acknowledge that this point is very theoretical, and we do not expect the two methods to produce distinguishable results.\n",
    "\n",
    "The second reason for this choice is more practical as it makes computing additional MC easy.\n",
    "If one were to use the slicing method and realized the number of slice points was not fine enough, they would need to choose a new set of points that never overlap any previous set of points and rerun the code.\n",
    "This is not impossible, but would likely require editing the source file and keep track of all previous sets of points.\n",
    "In the randomly sampled case, one needs only run the same code with a different seed to the random number generation."
   ]
  },
  {
   "cell_type": "markdown",
   "metadata": {},
   "source": [
    "## Q17. Do you completely get rid of empty bins through oversampling or do you end up assigning some small value to problematic bins?\n",
    "\n",
    "We completely remove them.\n",
    "This is a conservative choice as they are consistently removed in both fits.\n",
    "We plan to check that no events appear in the removed bins as a pre-unblinding check."
   ]
  },
  {
   "cell_type": "markdown",
   "metadata": {},
   "source": [
    "## Q18. The OscNext distributions are binned in energy, opening angle, and a morphology score. You only show the 2d E-psi histograms, could you also show the other projections?\n",
    "\n",
    "We have added this."
   ]
  },
  {
   "cell_type": "markdown",
   "metadata": {},
   "source": [
    "## Q19. The 90% background TS value in Fig. 7 (5-200) does not match the one in Fig. 6. Outdated plots or am I missing something?\n",
    "\n",
    "Sorry, this is a plotting artifact.\n",
    "In Fig. 6, we only fill bins that are spanned by the 90% quantile of the background TS distribution.\n",
    "This leads to the filled region in Fig. 6 systematically undershotting the value plotted in Fig. 7.\n",
    "I am thinking about how to better represent this in the plots, but if you have any thoughts, please let me know.\n",
    "I think I know an approach but it will take a little work to implement."
   ]
  },
  {
   "cell_type": "markdown",
   "metadata": {},
   "source": [
    "## Q20. Do you expect any effect on the analysis from the time-dependent sun shadow, e.g. in the terrestrial atmospheric neutrino background in the direction of the sun?\n",
    "\n",
    "We do not currently understand how the Sun shadow affects our sensitivity.\n",
    "Based on conversations we had at ICRC about HAWC recent detection of solar atmospheric gamma rays, it seems that this should play an important role.\n",
    "The scale of this effect is not understood currently since the impact on sensitivity is a function of angular resolution and HAWC's and IceCube's angular resolution are very different.\n",
    "\n",
    "The current analysis is conservative as including this effect will only decrease the background, thus improving the sensitivity.\n",
    "We do not plan to include this effect in the current analysis.\n",
    "We plan instead to include this in a near-future analysis that uses the medium-energy selectin and an updated calculation of the solar CR shadow. "
   ]
  },
  {
   "cell_type": "code",
   "execution_count": null,
   "metadata": {},
   "outputs": [],
   "source": []
  }
 ],
 "metadata": {
  "kernelspec": {
   "display_name": "Python 3",
   "language": "python",
   "name": "python3"
  },
  "language_info": {
   "codemirror_mode": {
    "name": "ipython",
    "version": 3
   },
   "file_extension": ".py",
   "mimetype": "text/x-python",
   "name": "python",
   "nbconvert_exporter": "python",
   "pygments_lexer": "ipython3",
   "version": "3.7.5"
  }
 },
 "nbformat": 4,
 "nbformat_minor": 2
}
