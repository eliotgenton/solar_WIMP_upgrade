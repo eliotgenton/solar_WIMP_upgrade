{
 "cells": [
  {
   "cell_type": "code",
   "execution_count": 1,
   "metadata": {},
   "outputs": [],
   "source": [
    "from unblind import load_bg, unblind, load_data\n",
    "import numpy as np"
   ]
  },
  {
   "cell_type": "code",
   "execution_count": 2,
   "metadata": {},
   "outputs": [],
   "source": [
    "bg       = load_bg()\n",
    "livetime = 3186.1*24*3600 # Livetime in seconds"
   ]
  },
  {
   "cell_type": "code",
   "execution_count": 3,
   "metadata": {},
   "outputs": [],
   "source": [
    "ch       = 5      # WW\n",
    "m        = 1000   # GeV\n",
    "xs       = 0.2 # fb\n",
    "sig_temp = livetime*np.load('/data/user/jlazar/solar/data/distributions/ch%d-m%d_1AU_BRW_IC86_pass2_MC_00.npy' % (ch, m))\n",
    "sig      = xs*sig_temp"
   ]
  },
  {
   "cell_type": "code",
   "execution_count": 9,
   "metadata": {},
   "outputs": [
    {
     "name": "stdout",
     "output_type": "stream",
     "text": [
      "[(23501.221605179693, array([-0.00977273, -0.07308918]), 300), (23501.366182008845, array([-0.00978522, -1.71041181]), 500), (23501.5157853625, array([-0.00977637, -2.64591763]), 800), (23501.55057597619, array([-0.00977264, -2.93820143]), 1000), (23501.60308156263, array([-0.00976226, -3.36981956]), 3000), (23501.648010687695, array([-0.00977034, -0.54156289]), 10000), (23501.69129266381, array([-0.00977652, -0.57050905]), 8000), (23501.751070937626, array([-0.00978397, -1.03173562]), 5000)]\n",
      "[(23501.52089626637, array([-0.00977545, -5.60035141]), 300), (23501.597502874163, array([-0.00976404, -6.51793073]), 500), (23501.607242200287, array([-0.00975879, -6.86190243]), 800), (23501.60937111833, array([-0.00975793, -5.33394808]), 3000), (23501.609684693787, array([-0.00976184, -6.15835223]), 1000), (23501.67809121163, array([-0.00977427, -0.25236748]), 10000), (23501.696634457407, array([-0.00977648, -0.56229807]), 8000), (23501.90619839431, array([-0.00979185, -0.88480372]), 5000)]\n",
      "[(23501.411766078658, array([-0.00978319, -5.31964554]), 300), (23501.569559714557, array([-0.00976979, -6.29200724]), 500), (23501.598555945464, array([-0.00976368, -6.68207564]), 800), (23501.603581939868, array([-0.00975489, -6.6911191 ]), 1000), (23501.609577377, array([-0.00975568, -5.63966465]), 3000), (23501.609801324783, array([-0.00975898, -3.85262968]), 8000), (23501.69191559701, array([-0.0097758 , -2.65231548]), 5000), (23502.149083244312, array([-0.00980547, -0.3072006 ]), 10000)]\n",
      "{5: (0.7758587532225647, array([-0.00977273, -0.07308918]), 300), 8: (0.17727657986688428, array([-0.00977545, -5.60035141]), 300), 11: (0.39553695529320976, array([-0.00978319, -5.31964554]), 300)}\n",
      "[0.3129830409672889, 0.5060943773659046, 0.4429162908763774]\n"
     ]
    }
   ],
   "source": [
    "np.random.seed(925)\n",
    "data = np.random.poisson(sig+bg)\n",
    "unblind(real_data, bg, stage=4)\n",
    "# unblind(data, bg, stage=2)"
   ]
  },
  {
   "cell_type": "code",
   "execution_count": 5,
   "metadata": {},
   "outputs": [
    {
     "name": "stdout",
     "output_type": "stream",
     "text": [
      "[0.97775134 0.70665162]\n",
      "[9.77748796e-01 2.55316458e-06]\n",
      "[9.77726193e-01 4.79922222e-06]\n"
     ]
    }
   ],
   "source": [
    "print(10**np.array([-0.00977158, -0.15079464]))\n",
    "print(10**np.array([-0.00977271, -5.59292119]))\n",
    "print(10**np.array([-0.00978275, -5.31882914]))"
   ]
  },
  {
   "cell_type": "code",
   "execution_count": null,
   "metadata": {},
   "outputs": [],
   "source": []
  },
  {
   "cell_type": "code",
   "execution_count": null,
   "metadata": {},
   "outputs": [],
   "source": []
  },
  {
   "cell_type": "code",
   "execution_count": null,
   "metadata": {},
   "outputs": [],
   "source": []
  },
  {
   "cell_type": "code",
   "execution_count": 5,
   "metadata": {},
   "outputs": [],
   "source": [
    "real_data = load_data()"
   ]
  },
  {
   "cell_type": "code",
   "execution_count": null,
   "metadata": {},
   "outputs": [],
   "source": []
  }
 ],
 "metadata": {
  "kernelspec": {
   "display_name": "Python 3",
   "language": "python",
   "name": "python3"
  },
  "language_info": {
   "codemirror_mode": {
    "name": "ipython",
    "version": 3
   },
   "file_extension": ".py",
   "mimetype": "text/x-python",
   "name": "python",
   "nbconvert_exporter": "python",
   "pygments_lexer": "ipython3",
   "version": "3.7.5"
  }
 },
 "nbformat": 4,
 "nbformat_minor": 2
}
